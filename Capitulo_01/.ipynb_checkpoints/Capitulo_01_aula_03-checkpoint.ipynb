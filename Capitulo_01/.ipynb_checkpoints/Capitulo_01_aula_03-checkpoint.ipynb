{
 "cells": [
  {
   "cell_type": "markdown",
   "id": "74a1930e",
   "metadata": {},
   "source": [
    "# Strings\n",
    "   ---\n",
    "   Sequência imutável de caracteres ou apenas 1 caracter\n",
    "   "
   ]
  },
  {
   "cell_type": "markdown",
   "id": "10f27bba",
   "metadata": {},
   "source": [
    "### Python é uma linguagem orientada a objeto, sendo assim as estruturas de dados possuem atributos (propriedades) e métodos (rotinas associadas às propriedades). Tanto os atributos quanto os métodos são acessados usando ponto (.).\n",
    "\n",
    "   #### objeto.atributo\n",
    "   #### objeto.método()\n",
    "   #### objeto.método(parâmetros)"
   ]
  },
  {
   "cell_type": "code",
   "execution_count": 1,
   "id": "d8d8eae8",
   "metadata": {},
   "outputs": [
    {
     "data": {
      "text/plain": [
       "'Essa é uma string'"
      ]
     },
     "execution_count": 1,
     "metadata": {},
     "output_type": "execute_result"
    }
   ],
   "source": [
    "\"Essa é uma string\""
   ]
  },
  {
   "cell_type": "code",
   "execution_count": 2,
   "id": "de2c1828",
   "metadata": {},
   "outputs": [
    {
     "data": {
      "text/plain": [
       "'a'"
      ]
     },
     "execution_count": 2,
     "metadata": {},
     "output_type": "execute_result"
    }
   ],
   "source": [
    "\"a\""
   ]
  },
  {
   "cell_type": "code",
   "execution_count": 3,
   "id": "a37fe30a",
   "metadata": {},
   "outputs": [
    {
     "data": {
      "text/plain": [
       "'Podemos utilizar aspas duplas ou simples para strings em Python'"
      ]
     },
     "execution_count": 3,
     "metadata": {},
     "output_type": "execute_result"
    }
   ],
   "source": [
    "'Podemos utilizar aspas duplas ou simples para strings em Python'"
   ]
  },
  {
   "cell_type": "code",
   "execution_count": 4,
   "id": "eb2a0536",
   "metadata": {},
   "outputs": [
    {
     "data": {
      "text/plain": [
       "\"Testando strings em 'Python'\""
      ]
     },
     "execution_count": 4,
     "metadata": {},
     "output_type": "execute_result"
    }
   ],
   "source": [
    "# É possível combinar aspas duplas e simples. Útil quando existe a necessidade de representar uma string com aspas simples\n",
    "\"Testando strings em 'Python'\""
   ]
  },
  {
   "cell_type": "markdown",
   "id": "8f118c1e",
   "metadata": {},
   "source": [
    "## Imprimindo uma string"
   ]
  },
  {
   "cell_type": "code",
   "execution_count": 5,
   "id": "848ffa63",
   "metadata": {},
   "outputs": [
    {
     "name": "stdout",
     "output_type": "stream",
     "text": [
      "testando string\n"
     ]
    }
   ],
   "source": [
    "print('testando string')"
   ]
  },
  {
   "cell_type": "code",
   "execution_count": 6,
   "id": "62322cfd",
   "metadata": {},
   "outputs": [
    {
     "name": "stdout",
     "output_type": "stream",
     "text": [
      "Testando \n",
      "Strings \n",
      "em \n",
      "Python\n"
     ]
    }
   ],
   "source": [
    "print('Testando \\nStrings \\nem \\nPython')"
   ]
  },
  {
   "cell_type": "code",
   "execution_count": 7,
   "id": "5c2d38e5",
   "metadata": {},
   "outputs": [
    {
     "name": "stdout",
     "output_type": "stream",
     "text": [
      "\n",
      "\n"
     ]
    }
   ],
   "source": [
    "print('\\n')"
   ]
  },
  {
   "cell_type": "markdown",
   "id": "24454d20",
   "metadata": {},
   "source": [
    "## Indexando strings - Índices [] de um objeto\n",
    "   ### Em Python, a indexação inicia por 0 (zero) "
   ]
  },
  {
   "cell_type": "code",
   "execution_count": 8,
   "id": "2deb1876",
   "metadata": {},
   "outputs": [],
   "source": [
    "texto = \"Python e Análise de Dados\""
   ]
  },
  {
   "cell_type": "code",
   "execution_count": 9,
   "id": "50b603b7",
   "metadata": {},
   "outputs": [
    {
     "data": {
      "text/plain": [
       "'P'"
      ]
     },
     "execution_count": 9,
     "metadata": {},
     "output_type": "execute_result"
    }
   ],
   "source": [
    "texto[0]"
   ]
  },
  {
   "cell_type": "code",
   "execution_count": 10,
   "id": "b7f28b42",
   "metadata": {},
   "outputs": [
    {
     "data": {
      "text/plain": [
       "'y'"
      ]
     },
     "execution_count": 10,
     "metadata": {},
     "output_type": "execute_result"
    }
   ],
   "source": [
    "texto[1]"
   ]
  },
  {
   "cell_type": "code",
   "execution_count": 11,
   "id": "e98aa57b",
   "metadata": {},
   "outputs": [
    {
     "data": {
      "text/plain": [
       "'t'"
      ]
     },
     "execution_count": 11,
     "metadata": {},
     "output_type": "execute_result"
    }
   ],
   "source": [
    "texto[2]"
   ]
  },
  {
   "cell_type": "markdown",
   "id": "f6f6cc02",
   "metadata": {},
   "source": [
    "    Podemos usar : para executar um slicing (fatiamento)"
   ]
  },
  {
   "cell_type": "code",
   "execution_count": 12,
   "id": "41f599cd",
   "metadata": {},
   "outputs": [
    {
     "data": {
      "text/plain": [
       "'ython e Análise de Dados'"
      ]
     },
     "execution_count": 12,
     "metadata": {},
     "output_type": "execute_result"
    }
   ],
   "source": [
    "#Inclusiva\n",
    "texto[1:]"
   ]
  },
  {
   "cell_type": "code",
   "execution_count": 13,
   "id": "e1d6d371",
   "metadata": {},
   "outputs": [
    {
     "data": {
      "text/plain": [
       "'Pyt'"
      ]
     },
     "execution_count": 13,
     "metadata": {},
     "output_type": "execute_result"
    }
   ],
   "source": [
    "#Retorna tudo até a posicao 3 (exclusivo)\n",
    "texto[:3]"
   ]
  },
  {
   "cell_type": "code",
   "execution_count": 14,
   "id": "b5f1ed90",
   "metadata": {},
   "outputs": [
    {
     "data": {
      "text/plain": [
       "'s'"
      ]
     },
     "execution_count": 14,
     "metadata": {},
     "output_type": "execute_result"
    }
   ],
   "source": [
    "# Usando a indexação negativa, lê de trás para frente\n",
    "texto[-1]"
   ]
  },
  {
   "cell_type": "code",
   "execution_count": 15,
   "id": "4f897942",
   "metadata": {},
   "outputs": [
    {
     "data": {
      "text/plain": [
       "'Python e Análise de Dado'"
      ]
     },
     "execution_count": 15,
     "metadata": {},
     "output_type": "execute_result"
    }
   ],
   "source": [
    "# Retorna tudo, exceto a última letra\n",
    "texto[:-1]"
   ]
  },
  {
   "cell_type": "code",
   "execution_count": 16,
   "id": "7b746e2c",
   "metadata": {},
   "outputs": [
    {
     "data": {
      "text/plain": [
       "'Python e Análise de Dados'"
      ]
     },
     "execution_count": 16,
     "metadata": {},
     "output_type": "execute_result"
    }
   ],
   "source": [
    "texto[::1]"
   ]
  },
  {
   "cell_type": "code",
   "execution_count": 17,
   "id": "cbcd6265",
   "metadata": {},
   "outputs": [
    {
     "data": {
      "text/plain": [
       "'Pto  nls eDds'"
      ]
     },
     "execution_count": 17,
     "metadata": {},
     "output_type": "execute_result"
    }
   ],
   "source": [
    "texto[::2]"
   ]
  },
  {
   "cell_type": "code",
   "execution_count": 18,
   "id": "31dc7d65",
   "metadata": {},
   "outputs": [
    {
     "data": {
      "text/plain": [
       "'sodaD ed esilánA e nohtyP'"
      ]
     },
     "execution_count": 18,
     "metadata": {},
     "output_type": "execute_result"
    }
   ],
   "source": [
    "texto[::-1]"
   ]
  },
  {
   "cell_type": "code",
   "execution_count": 19,
   "id": "1ba0a571",
   "metadata": {},
   "outputs": [
    {
     "data": {
      "text/plain": [
       "'sdDe sln  otP'"
      ]
     },
     "execution_count": 19,
     "metadata": {},
     "output_type": "execute_result"
    }
   ],
   "source": [
    "texto[::-2]"
   ]
  },
  {
   "cell_type": "code",
   "execution_count": 20,
   "id": "a00d7665",
   "metadata": {},
   "outputs": [
    {
     "ename": "TypeError",
     "evalue": "'str' object does not support item assignment",
     "output_type": "error",
     "traceback": [
      "\u001b[1;31m---------------------------------------------------------------------------\u001b[0m",
      "\u001b[1;31mTypeError\u001b[0m                                 Traceback (most recent call last)",
      "\u001b[1;32m<ipython-input-20-3f6e0c16d412>\u001b[0m in \u001b[0;36m<module>\u001b[1;34m\u001b[0m\n\u001b[0;32m      1\u001b[0m \u001b[1;31m# tentando alterar um caracter. Provando a imutablilidade\u001b[0m\u001b[1;33m\u001b[0m\u001b[1;33m\u001b[0m\u001b[1;33m\u001b[0m\u001b[0m\n\u001b[1;32m----> 2\u001b[1;33m \u001b[0mtexto\u001b[0m\u001b[1;33m[\u001b[0m\u001b[1;36m0\u001b[0m\u001b[1;33m]\u001b[0m \u001b[1;33m=\u001b[0m \u001b[1;34m'x'\u001b[0m\u001b[1;33m\u001b[0m\u001b[1;33m\u001b[0m\u001b[0m\n\u001b[0m",
      "\u001b[1;31mTypeError\u001b[0m: 'str' object does not support item assignment"
     ]
    }
   ],
   "source": [
    "# tentando alterar um caracter. Provando a imutablilidade\n",
    "texto[0] = 'x'"
   ]
  },
  {
   "cell_type": "code",
   "execution_count": 21,
   "id": "b68fe5d6",
   "metadata": {},
   "outputs": [],
   "source": [
    "texto = texto + ' é um curso da DSA'"
   ]
  },
  {
   "cell_type": "code",
   "execution_count": 22,
   "id": "b7420964",
   "metadata": {},
   "outputs": [
    {
     "data": {
      "text/plain": [
       "'Python e Análise de Dados é um curso da DSA'"
      ]
     },
     "execution_count": 22,
     "metadata": {},
     "output_type": "execute_result"
    }
   ],
   "source": [
    "texto"
   ]
  },
  {
   "cell_type": "code",
   "execution_count": 23,
   "id": "ec3186fb",
   "metadata": {},
   "outputs": [
    {
     "name": "stdout",
     "output_type": "stream",
     "text": [
      "Python e Análise de Dados é um curso da DSA\n"
     ]
    }
   ],
   "source": [
    "print(texto)"
   ]
  },
  {
   "cell_type": "markdown",
   "id": "f218632d",
   "metadata": {},
   "source": [
    "## Funções Built-in de Strings"
   ]
  },
  {
   "cell_type": "code",
   "execution_count": 31,
   "id": "1441ca17",
   "metadata": {},
   "outputs": [
    {
     "data": {
      "text/plain": [
       "'Python e Análise de Dados é um curso da DSA'"
      ]
     },
     "execution_count": 31,
     "metadata": {},
     "output_type": "execute_result"
    }
   ],
   "source": [
    "texto"
   ]
  },
  {
   "cell_type": "code",
   "execution_count": 32,
   "id": "5a5faba8",
   "metadata": {},
   "outputs": [
    {
     "data": {
      "text/plain": [
       "'PYTHON E ANÁLISE DE DADOS É UM CURSO DA DSA'"
      ]
     },
     "execution_count": 32,
     "metadata": {},
     "output_type": "execute_result"
    }
   ],
   "source": [
    "texto.upper()"
   ]
  },
  {
   "cell_type": "code",
   "execution_count": 35,
   "id": "9db3d52d",
   "metadata": {},
   "outputs": [
    {
     "data": {
      "text/plain": [
       "'python e análise de dados é um curso da dsa'"
      ]
     },
     "execution_count": 35,
     "metadata": {},
     "output_type": "execute_result"
    }
   ],
   "source": [
    "texto.lower()"
   ]
  },
  {
   "cell_type": "code",
   "execution_count": 36,
   "id": "13bf4ab5",
   "metadata": {},
   "outputs": [
    {
     "data": {
      "text/plain": [
       "['Python', 'e', 'Análise', 'de', 'Dados', 'é', 'um', 'curso', 'da', 'DSA']"
      ]
     },
     "execution_count": 36,
     "metadata": {},
     "output_type": "execute_result"
    }
   ],
   "source": [
    "# Dividir um string por espaços em branco (padrão) \n",
    "texto.split()"
   ]
  },
  {
   "cell_type": "code",
   "execution_count": 37,
   "id": "7953fc82",
   "metadata": {},
   "outputs": [
    {
     "data": {
      "text/plain": [
       "['P', 'thon e Análise de Dados é um curso da DSA']"
      ]
     },
     "execution_count": 37,
     "metadata": {},
     "output_type": "execute_result"
    }
   ],
   "source": [
    "# Dividir um string por um elemento específico \n",
    "texto.split('y')"
   ]
  },
  {
   "cell_type": "code",
   "execution_count": 52,
   "id": "58355e46",
   "metadata": {},
   "outputs": [],
   "source": [
    "s = 'seja bem vindo ao universo python'"
   ]
  },
  {
   "cell_type": "code",
   "execution_count": 53,
   "id": "074e51ec",
   "metadata": {},
   "outputs": [
    {
     "data": {
      "text/plain": [
       "'Seja bem vindo ao universo python'"
      ]
     },
     "execution_count": 53,
     "metadata": {},
     "output_type": "execute_result"
    }
   ],
   "source": [
    "# Transforma o primeiro caractere em maiúsculo\n",
    "s.capitalize()"
   ]
  },
  {
   "cell_type": "code",
   "execution_count": 54,
   "id": "394e37c7",
   "metadata": {},
   "outputs": [
    {
     "data": {
      "text/plain": [
       "2"
      ]
     },
     "execution_count": 54,
     "metadata": {},
     "output_type": "execute_result"
    }
   ],
   "source": [
    "# Conta quantas vezes o caracter digitado, aparece dentro da string\n",
    "s.count('a')"
   ]
  },
  {
   "cell_type": "code",
   "execution_count": 55,
   "id": "4f6394f5",
   "metadata": {},
   "outputs": [
    {
     "data": {
      "text/plain": [
       "9"
      ]
     },
     "execution_count": 55,
     "metadata": {},
     "output_type": "execute_result"
    }
   ],
   "source": [
    "# Encontra a primeira posição que o caracter digitado aparece dentro da string\n",
    "s.find('v')"
   ]
  },
  {
   "cell_type": "code",
   "execution_count": 56,
   "id": "03c423c4",
   "metadata": {},
   "outputs": [
    {
     "data": {
      "text/plain": [
       "True"
      ]
     },
     "execution_count": 56,
     "metadata": {},
     "output_type": "execute_result"
    }
   ],
   "source": [
    "# Verifica se o caractere é minúsculo\n",
    "s.islower()"
   ]
  },
  {
   "cell_type": "code",
   "execution_count": 57,
   "id": "a67415a7",
   "metadata": {},
   "outputs": [
    {
     "data": {
      "text/plain": [
       "False"
      ]
     },
     "execution_count": 57,
     "metadata": {},
     "output_type": "execute_result"
    }
   ],
   "source": [
    "s.isspace()"
   ]
  },
  {
   "cell_type": "code",
   "execution_count": 60,
   "id": "a8fb0c38",
   "metadata": {},
   "outputs": [
    {
     "data": {
      "text/plain": [
       "False"
      ]
     },
     "execution_count": 60,
     "metadata": {},
     "output_type": "execute_result"
    }
   ],
   "source": [
    "# Verifica se termina com a letra 'o'\n",
    "s.endswith('o')"
   ]
  },
  {
   "cell_type": "markdown",
   "id": "80d0f9b6",
   "metadata": {},
   "source": [
    "## Comparando Strings\n"
   ]
  },
  {
   "cell_type": "code",
   "execution_count": 61,
   "id": "c286d872",
   "metadata": {},
   "outputs": [
    {
     "name": "stdout",
     "output_type": "stream",
     "text": [
      "False\n"
     ]
    }
   ],
   "source": [
    "print('Python' == 'R')"
   ]
  },
  {
   "cell_type": "code",
   "execution_count": 63,
   "id": "129260c7",
   "metadata": {},
   "outputs": [
    {
     "name": "stdout",
     "output_type": "stream",
     "text": [
      "True\n"
     ]
    }
   ],
   "source": [
    "print('python' == 'python')"
   ]
  },
  {
   "cell_type": "markdown",
   "id": "c7108835",
   "metadata": {},
   "source": [
    "## FIM"
   ]
  }
 ],
 "metadata": {
  "kernelspec": {
   "display_name": "Python 3",
   "language": "python",
   "name": "python3"
  },
  "language_info": {
   "codemirror_mode": {
    "name": "ipython",
    "version": 3
   },
   "file_extension": ".py",
   "mimetype": "text/x-python",
   "name": "python",
   "nbconvert_exporter": "python",
   "pygments_lexer": "ipython3",
   "version": "3.8.8"
  }
 },
 "nbformat": 4,
 "nbformat_minor": 5
}
